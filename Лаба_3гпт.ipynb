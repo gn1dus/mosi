{
  "nbformat": 4,
  "nbformat_minor": 0,
  "metadata": {
    "colab": {
      "provenance": [],
      "include_colab_link": true
    },
    "kernelspec": {
      "name": "python3",
      "display_name": "Python 3"
    },
    "language_info": {
      "name": "python"
    }
  },
  "cells": [
    {
      "cell_type": "markdown",
      "metadata": {
        "id": "view-in-github",
        "colab_type": "text"
      },
      "source": [
        "<a href=\"https://colab.research.google.com/github/gn1dus/mosi/blob/main/%D0%9B%D0%B0%D0%B1%D0%B0_3%D0%B3%D0%BF%D1%82.ipynb\" target=\"_parent\"><img src=\"https://colab.research.google.com/assets/colab-badge.svg\" alt=\"Open In Colab\"/></a>"
      ]
    },
    {
      "cell_type": "markdown",
      "source": [
        "## **Нейронные сети для преобразования текста**"
      ],
      "metadata": {
        "id": "c8aUhGyFgGOv"
      }
    },
    {
      "cell_type": "markdown",
      "source": [
        "### Создать нейронную сеть с нуля, т.е. не используя готовые библиотеки. Пример работы на любом табличном датасете.\n"
      ],
      "metadata": {
        "id": "-ZrFxUswZ54y"
      }
    },
    {
      "cell_type": "markdown",
      "source": [
        "Функция для линейной регрессии"
      ],
      "metadata": {
        "id": "248xP_dy2Par"
      }
    },
    {
      "cell_type": "code",
      "source": [
        "import numpy as np\n",
        "import pandas as pd\n",
        "def linear_regression(X: np.ndarray, weights: np.ndarray, bi) -> np.ndarray:\n",
        "    return np.dot(X, weights) + bias"
      ],
      "metadata": {
        "id": "mp2E166tgpS_"
      },
      "execution_count": 13,
      "outputs": []
    },
    {
      "cell_type": "markdown",
      "source": [
        "Функция для активации (сигмоид)"
      ],
      "metadata": {
        "id": "QX2Xg6ZuaXc_"
      }
    },
    {
      "cell_type": "code",
      "source": [
        "def activation_func(x: np.ndarray) -> np.ndarray:\n",
        "    return 1 / (1 + np.exp(-x))"
      ],
      "metadata": {
        "id": "plyrIbbj_Gh_"
      },
      "execution_count": 14,
      "outputs": []
    },
    {
      "cell_type": "markdown",
      "source": [
        "Функция для нейрона"
      ],
      "metadata": {
        "id": "UtY_SclkazlW"
      }
    },
    {
      "cell_type": "code",
      "source": [
        "def neuron(X: np.ndarray, weights: np.ndarray, bias: float) -> np.ndarray:\n",
        "    temp_result = linear_regression(X, weights, bias)\n",
        "    result = activation_func(temp_result)\n",
        "    return result"
      ],
      "metadata": {
        "id": "xBvsB-GYaCd2"
      },
      "execution_count": 4,
      "outputs": []
    },
    {
      "cell_type": "markdown",
      "source": [
        "Пример работы"
      ],
      "metadata": {
        "id": "BCe6D6-sa4T6"
      }
    },
    {
      "cell_type": "code",
      "source": [
        "data = {\n",
        "        'feature1': [0.1, 0.2, 0.3, 0.4, 0.5],\n",
        "        'feature2': [0.5, 0.4, 0.3, 0.2, 0.1],\n",
        "        'label': [0, 0, 1, 1, 1]\n",
        "    }\n",
        "\n",
        "df1 = pd.DataFrame(data)"
      ],
      "metadata": {
        "id": "qZePBVGTa9Ep"
      },
      "execution_count": 15,
      "outputs": []
    },
    {
      "cell_type": "code",
      "source": [
        "X = df1[['feature1', 'feature2']].values # Входные признаки\n",
        "y = df1['label'].values # Целевая переменная"
      ],
      "metadata": {
        "id": "Wdmbp7QFbPrZ"
      },
      "execution_count": 16,
      "outputs": []
    },
    {
      "cell_type": "code",
      "source": [
        "weights = np.random.rand(X.shape[1]) # Генерация весов\n",
        "bias = np.random.rand() # Генерация смещений"
      ],
      "metadata": {
        "id": "DxKbMrtsbX9l"
      },
      "execution_count": 7,
      "outputs": []
    },
    {
      "cell_type": "code",
      "source": [
        "output = neuron(X, weights, bias)\n",
        "print(output)"
      ],
      "metadata": {
        "id": "YayYLVIobpGk",
        "outputId": "54eecf44-5db0-4c4b-d5ae-764301a40444",
        "colab": {
          "base_uri": "https://localhost:8080/"
        }
      },
      "execution_count": 17,
      "outputs": [
        {
          "output_type": "stream",
          "name": "stdout",
          "text": [
            "[0.63375672 0.63796982 0.64216182 0.64633218 0.6504804 ]\n"
          ]
        }
      ]
    },
    {
      "cell_type": "markdown",
      "source": [
        "### Сделать класс, в котором реализована возможность задать количество нейронов в скрытом слое и провести обучение.\n"
      ],
      "metadata": {
        "id": "-3iEHzQD2aDs"
      }
    },
    {
      "cell_type": "code",
      "source": [
        "class NeuralNetwork:\n",
        "    def __init__(self, input_size, hidden1_size, hidden2_size, output_size, learning_rate=0.01):\n",
        "        np.random.seed(42)\n",
        "        self.lr = learning_rate\n",
        "\n",
        "        # Инициализация весов и смещений\n",
        "        self.W1 = np.random.randn(input_size, hidden1_size) * 0.1\n",
        "        self.b1 = np.zeros((1, hidden1_size))\n",
        "\n",
        "        self.W2 = np.random.randn(hidden1_size, hidden2_size) * 0.1\n",
        "        self.b2 = np.zeros((1, hidden2_size))\n",
        "\n",
        "        self.W3 = np.random.randn(hidden2_size, output_size) * 0.1\n",
        "        self.b3 = np.zeros((1, output_size))\n",
        "\n",
        "    def activation_func(self, x):\n",
        "        return 1 / (1 + np.exp(-x))  # Сигмоида\n",
        "\n",
        "    def activation_func_derivative(self, x):\n",
        "        return x * (1 - x)  # Производная сигмоиды\n",
        "\n",
        "    def forward(self, X):\n",
        "        self.z1 = np.dot(X, self.W1) + self.b1\n",
        "        self.a1 = self.activation_func(self.z1)\n",
        "\n",
        "        self.z2 = np.dot(self.a1, self.W2) + self.b2\n",
        "        self.a2 = self.activation_func(self.z2)\n",
        "\n",
        "        self.z3 = np.dot(self.a2, self.W3) + self.b3\n",
        "        self.a3 = self.activation_func(self.z3)\n",
        "\n",
        "        return self.a3\n",
        "\n",
        "    def backward(self, X, y):\n",
        "        output_error = self.a3 - y  # Ошибка на выходе\n",
        "        output_delta = output_error * self.activation_func_derivative(self.a3)\n",
        "\n",
        "        hidden2_error = output_delta.dot(self.W3.T)\n",
        "        hidden2_delta = hidden2_error * self.activation_func_derivative(self.a2)\n",
        "\n",
        "        hidden1_error = hidden2_delta.dot(self.W2.T)\n",
        "        hidden1_delta = hidden1_error * self.activation_func_derivative(self.a1)\n",
        "\n",
        "        # Обновление весов и смещений\n",
        "        self.W3 -= self.a2.T.dot(output_delta) * self.lr\n",
        "        self.b3 -= np.sum(output_delta, axis=0, keepdims=True) * self.lr\n",
        "\n",
        "        self.W2 -= self.a1.T.dot(hidden2_delta) * self.lr\n",
        "        self.b2 -= np.sum(hidden2_delta, axis=0, keepdims=True) * self.lr\n",
        "\n",
        "        self.W1 -= X.T.dot(hidden1_delta) * self.lr\n",
        "        self.b1 -= np.sum(hidden1_delta, axis=0, keepdims=True) * self.lr\n",
        "\n",
        "    def train(self, X, y, epochs):\n",
        "        for epoch in range(epochs):\n",
        "            self.forward(X)\n",
        "            self.backward(X, y)\n",
        "            if epoch % 100 == 0:\n",
        "                loss = np.mean(np.square(y - self.a3))  # Среднеквадратичная ошибка\n",
        "                print(f'Epoch {epoch}, Loss: {loss}')"
      ],
      "metadata": {
        "id": "is-YX4O0gzeg"
      },
      "execution_count": 21,
      "outputs": []
    },
    {
      "cell_type": "markdown",
      "source": [
        "Пример работы"
      ],
      "metadata": {
        "id": "t1eD8bwU2k-k"
      }
    },
    {
      "cell_type": "code",
      "source": [
        "# Подготовка данных\n",
        "df2= pd.DataFrame(data)\n",
        "\n",
        "X = df2[['feature1', 'feature2']].values\n",
        "y = df2['label'].values.reshape(-1, 1)  # Преобразуем y в столбец\n",
        "\n",
        "# Создаем и обучаем нейронную сеть\n",
        "nn = NeuralNetwork(input_size=2, hidden1_size=3, hidden2_size=3, output_size=1, learning_rate=0.1)\n",
        "nn.train(X, y, epochs=1000)\n",
        "\n",
        "# Прогоняем данные через нейронную сеть\n",
        "output = nn.forward(X)\n",
        "print(\"Выход нейронной сети:\", output)"
      ],
      "metadata": {
        "id": "YrBdWAQ_fPQj",
        "outputId": "a345ffa7-ed1e-46a0-b0ad-685ff4274176",
        "colab": {
          "base_uri": "https://localhost:8080/"
        }
      },
      "execution_count": 22,
      "outputs": [
        {
          "output_type": "stream",
          "name": "stdout",
          "text": [
            "Epoch 0, Loss: 0.25343579202470934\n",
            "Epoch 100, Loss: 0.2400066653815962\n",
            "Epoch 200, Loss: 0.24000605090893457\n",
            "Epoch 300, Loss: 0.24000581026249956\n",
            "Epoch 400, Loss: 0.24000557680809279\n",
            "Epoch 500, Loss: 0.240005350185569\n",
            "Epoch 600, Loss: 0.24000513006163615\n",
            "Epoch 700, Loss: 0.24000491611605518\n",
            "Epoch 800, Loss: 0.24000470804081556\n",
            "Epoch 900, Loss: 0.24000450553935856\n",
            "Выход нейронной сети: [[0.59996788]\n",
            " [0.59996429]\n",
            " [0.5999607 ]\n",
            " [0.59995711]\n",
            " [0.59995352]]\n"
          ]
        }
      ]
    }
  ]
}